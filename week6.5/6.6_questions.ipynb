{
 "cells": [
  {
   "cell_type": "code",
   "execution_count": 1,
   "metadata": {
    "collapsed": false
   },
   "outputs": [
    {
     "name": "stdout",
     "output_type": "stream",
     "text": [
      "env: THEANO_FLAGS=device=gpu7\n"
     ]
    },
    {
     "name": "stderr",
     "output_type": "stream",
     "text": [
      "WARNING (theano.sandbox.cuda): The cuda backend is deprecated and will be removed in the next release (v0.10).  Please switch to the gpuarray backend. You can get more information about how to switch at this URL:\n",
      " https://github.com/Theano/Theano/wiki/Converting-to-the-new-gpu-back-end%28gpuarray%29\n",
      "\n",
      "Using gpu device 7: GeForce GTX 1080 (CNMeM is enabled with initial size: 45.0% of memory, cuDNN 5105)\n"
     ]
    }
   ],
   "source": [
    "#%env THEANO_FLAGS=device=gpu7\n",
    "import numpy as np\n",
    "import theano\n",
    "import theano.tensor as T\n",
    "import lasagne\n",
    "import os\n",
    "#thanks @keskarnitish"
   ]
  },
  {
   "cell_type": "markdown",
   "metadata": {},
   "source": [
    "# Questions prediction\n",
    "\n",
    "* Here we try to generate human-readable questions.\n",
    "* The dataset origins from https://www.kaggle.com/c/quora-question-pairs - the challanged started recently about finidng duplicated questions.\n",
    "* You should use train (not test!) set>"
   ]
  },
  {
   "cell_type": "code",
   "execution_count": 13,
   "metadata": {
    "collapsed": false
   },
   "outputs": [],
   "source": [
    "import pandas as pd\n",
    "df = pd.read_csv(\"./train.csv\")"
   ]
  },
  {
   "cell_type": "code",
   "execution_count": 14,
   "metadata": {
    "collapsed": false
   },
   "outputs": [],
   "source": [
    "df = pd.concat([df.question1,df.question2])"
   ]
  },
  {
   "cell_type": "code",
   "execution_count": 15,
   "metadata": {
    "collapsed": false
   },
   "outputs": [],
   "source": [
    "questions = list(set(df))"
   ]
  },
  {
   "cell_type": "code",
   "execution_count": 16,
   "metadata": {
    "collapsed": true
   },
   "outputs": [],
   "source": [
    "questions = filter(lambda x: type(x) is str, questions)"
   ]
  },
  {
   "cell_type": "code",
   "execution_count": 17,
   "metadata": {
    "collapsed": false
   },
   "outputs": [],
   "source": [
    "start_token,end_token = \" \",\";\"\n",
    "questions = [start_token+name.replace(\";\",\",\")+end_token for name in questions]"
   ]
  },
  {
   "cell_type": "code",
   "execution_count": 18,
   "metadata": {
    "collapsed": false
   },
   "outputs": [
    {
     "data": {
      "text/plain": [
       "537361"
      ]
     },
     "execution_count": 18,
     "metadata": {},
     "output_type": "execute_result"
    }
   ],
   "source": [
    "len(questions)"
   ]
  },
  {
   "cell_type": "code",
   "execution_count": 19,
   "metadata": {
    "collapsed": false
   },
   "outputs": [
    {
     "data": {
      "text/plain": [
       "\" How do I open petrol pump in India? What's the procedure?;\""
      ]
     },
     "execution_count": 19,
     "metadata": {},
     "output_type": "execute_result"
    }
   ],
   "source": [
    "questions[0]"
   ]
  },
  {
   "cell_type": "code",
   "execution_count": 20,
   "metadata": {
    "collapsed": false
   },
   "outputs": [
    {
     "name": "stdout",
     "output_type": "stream",
     "text": [
      "n samples =  537361\n",
      " How do I open petrol pump in India? What's the procedure?;\n",
      " How do you come to know that you love her or not?;\n",
      " What’s the least expensive way to fly business class?;\n",
      " When was the last time you played a video game?;\n",
      " How do reciprocating pumps work?;\n",
      " What happens when you call 1-800-USA-RAIL?;\n"
     ]
    }
   ],
   "source": [
    "print('n samples = ',len(questions))\n",
    "for x in questions[::100000]:\n",
    "    print (x)"
   ]
  },
  {
   "cell_type": "markdown",
   "metadata": {},
   "source": [
    "# Text processing"
   ]
  },
  {
   "cell_type": "code",
   "execution_count": 21,
   "metadata": {
    "collapsed": false
   },
   "outputs": [],
   "source": [
    "#all unique characters go here\n",
    "token_set = set()\n",
    "for name in questions:\n",
    "    for letter in name:\n",
    "        token_set.add(letter)\n",
    "\n",
    "tokens = list(token_set)\n",
    "\n",
    "#print 'n_tokens = ',len(tokens)\n"
   ]
  },
  {
   "cell_type": "code",
   "execution_count": 22,
   "metadata": {
    "collapsed": false
   },
   "outputs": [],
   "source": [
    "#!token_to_id = <dictionary of symbol -> its identifier (index in tokens list)>\n",
    "token_to_id = {t:i for i,t in enumerate(tokens) }\n",
    "\n",
    "#!id_to_token = < dictionary of symbol identifier -> symbol itself>\n",
    "id_to_token = {i:t for i,t in enumerate(tokens)}"
   ]
  },
  {
   "cell_type": "code",
   "execution_count": 1,
   "metadata": {
    "collapsed": false
   },
   "outputs": [
    {
     "ename": "NameError",
     "evalue": "name 'questions' is not defined",
     "output_type": "error",
     "traceback": [
      "\u001b[0;31m---------------------------------------------------------------------------\u001b[0m",
      "\u001b[0;31mNameError\u001b[0m                                 Traceback (most recent call last)",
      "\u001b[0;32m<ipython-input-1-33b2ed041c59>\u001b[0m in \u001b[0;36m<module>\u001b[0;34m()\u001b[0m\n\u001b[1;32m      1\u001b[0m \u001b[0;32mimport\u001b[0m \u001b[0mmatplotlib\u001b[0m\u001b[0;34m.\u001b[0m\u001b[0mpyplot\u001b[0m \u001b[0;32mas\u001b[0m \u001b[0mplt\u001b[0m\u001b[0;34m\u001b[0m\u001b[0m\n\u001b[1;32m      2\u001b[0m \u001b[0mget_ipython\u001b[0m\u001b[0;34m(\u001b[0m\u001b[0;34m)\u001b[0m\u001b[0;34m.\u001b[0m\u001b[0mmagic\u001b[0m\u001b[0;34m(\u001b[0m\u001b[0;34m'matplotlib inline'\u001b[0m\u001b[0;34m)\u001b[0m\u001b[0;34m\u001b[0m\u001b[0m\n\u001b[0;32m----> 3\u001b[0;31m \u001b[0mplt\u001b[0m\u001b[0;34m.\u001b[0m\u001b[0mhist\u001b[0m\u001b[0;34m(\u001b[0m\u001b[0mlist\u001b[0m\u001b[0;34m(\u001b[0m\u001b[0mmap\u001b[0m\u001b[0;34m(\u001b[0m\u001b[0mlen\u001b[0m\u001b[0;34m,\u001b[0m\u001b[0mquestions\u001b[0m\u001b[0;34m)\u001b[0m\u001b[0;34m)\u001b[0m\u001b[0;34m,\u001b[0m\u001b[0mbins\u001b[0m\u001b[0;34m=\u001b[0m\u001b[0;36m25\u001b[0m\u001b[0;34m)\u001b[0m\u001b[0;34m;\u001b[0m\u001b[0;34m\u001b[0m\u001b[0m\n\u001b[0m\u001b[1;32m      4\u001b[0m \u001b[0;34m\u001b[0m\u001b[0m\n\u001b[1;32m      5\u001b[0m \u001b[0;31m# Truncate questions longer than MAX_LEN characters.\u001b[0m\u001b[0;34m\u001b[0m\u001b[0;34m\u001b[0m\u001b[0m\n",
      "\u001b[0;31mNameError\u001b[0m: name 'questions' is not defined"
     ]
    }
   ],
   "source": [
    "import matplotlib.pyplot as plt\n",
    "%matplotlib inline\n",
    "plt.hist(list(map(len,questions)),bins=25);\n",
    "\n",
    "# Truncate questions longer than MAX_LEN characters. \n",
    "MAX_LEN = min([150,max(list(map(len,questions)))])"
   ]
  },
  {
   "cell_type": "markdown",
   "metadata": {},
   "source": [
    "### Cast everything from symbols into identifiers"
   ]
  },
  {
   "cell_type": "code",
   "execution_count": 24,
   "metadata": {
    "collapsed": false
   },
   "outputs": [],
   "source": [
    "questions_ix = list(map(lambda name: list(map(token_to_id.get,name)),questions))\n",
    "\n",
    "\n",
    "#crop long questions and pad short ones\n",
    "for i in range(len(questions_ix)):\n",
    "    questions_ix[i] = questions_ix[i][:MAX_LEN] #crop too long\n",
    "    \n",
    "    if len(questions_ix[i]) < MAX_LEN:\n",
    "        questions_ix[i] += [token_to_id[\" \"]]*(MAX_LEN - len(questions_ix[i])) #pad too short\n",
    "        \n",
    "assert len(set(map(len,questions_ix)))==1\n",
    "\n",
    "questions_ix = np.array(questions_ix)"
   ]
  },
  {
   "cell_type": "markdown",
   "metadata": {},
   "source": [
    "# Input variables"
   ]
  },
  {
   "cell_type": "code",
   "execution_count": 25,
   "metadata": {
    "collapsed": true
   },
   "outputs": [],
   "source": [
    "input_sequence = T.matrix('token sequencea','int32')\n",
    "target_values = T.matrix('actual next token','int32')\n"
   ]
  },
  {
   "cell_type": "markdown",
   "metadata": {},
   "source": [
    "# Build NN\n",
    "\n",
    "You will be building a model that takes token sequence and predicts next token\n",
    "\n",
    "\n",
    "* iput sequence\n",
    "* one-hot / embedding\n",
    "* recurrent layer(s)\n",
    "* otput layer(s) that predict output probabilities\n"
   ]
  },
  {
   "cell_type": "code",
   "execution_count": 26,
   "metadata": {
    "collapsed": true
   },
   "outputs": [],
   "source": [
    "from lasagne.layers import InputLayer,DenseLayer,EmbeddingLayer\n",
    "from lasagne.layers import RecurrentLayer,LSTMLayer,GRULayer,CustomRecurrentLayer"
   ]
  },
  {
   "cell_type": "code",
   "execution_count": 28,
   "metadata": {
    "collapsed": false
   },
   "outputs": [],
   "source": [
    "l_in = lasagne.layers.InputLayer(shape=(None, None),input_var=input_sequence)\n",
    "\n",
    "#!<Your neural network>\n",
    "l_emb = <embedding layer or one-hot encoding>\n",
    "\n",
    "l_rnn = <some recurrent layer(or several such layers)>\n",
    "\n",
    "#flatten batch and time to be compatible with feedforward layers (will un-flatten later)\n",
    "l_rnn_flat = lasagne.layers.reshape(l_rnn, (-1,l_rnn.output_shape[-1]))\n",
    "\n",
    "l_out = <last dense layer (or several layers), returning probabilities for all possible next tokens>\n"
   ]
  },
  {
   "cell_type": "code",
   "execution_count": 29,
   "metadata": {
    "collapsed": false
   },
   "outputs": [
    {
     "name": "stdout",
     "output_type": "stream",
     "text": [
      "[W, W_in_to_ingate, W_hid_to_ingate, b_ingate, W_in_to_forgetgate, W_hid_to_forgetgate, b_forgetgate, W_in_to_cell, W_hid_to_cell, b_cell, W_in_to_outgate, W_hid_to_outgate, b_outgate, W_cell_to_ingate, W_cell_to_forgetgate, W_cell_to_outgate, W, b]\n"
     ]
    }
   ],
   "source": [
    "# Model weights\n",
    "weights = lasagne.layers.get_all_params(l_out,trainable=True)\n",
    "print(weights)"
   ]
  },
  {
   "cell_type": "code",
   "execution_count": 30,
   "metadata": {
    "collapsed": false
   },
   "outputs": [],
   "source": [
    "network_output = lasagne.layers.get_output(l_out)\n",
    "#If you use dropout do not forget to create deterministic version for evaluation"
   ]
  },
  {
   "cell_type": "code",
   "execution_count": 31,
   "metadata": {
    "collapsed": false
   },
   "outputs": [],
   "source": [
    "\n",
    "predicted_probabilities_flat = network_output\n",
    "correct_answers_flat = target_values.ravel()\n",
    "\n",
    "\n",
    "loss = <Loss function - a simple categorical crossentropy will do, maybe add some regularizer>\n",
    "\n",
    "updates = <your favorite optimizer>\n"
   ]
  },
  {
   "cell_type": "markdown",
   "metadata": {},
   "source": [
    "# Compiling it"
   ]
  },
  {
   "cell_type": "code",
   "execution_count": 32,
   "metadata": {
    "collapsed": false
   },
   "outputs": [],
   "source": [
    "\n",
    "#training\n",
    "train = theano.function([input_sequence, target_values], loss, updates=updates, allow_input_downcast=True)\n",
    "\n",
    "#computing loss without training\n",
    "compute_cost = theano.function([input_sequence, target_values], loss, allow_input_downcast=True)\n"
   ]
  },
  {
   "cell_type": "markdown",
   "metadata": {},
   "source": [
    "# Generation\n",
    "\n",
    "Simple: \n",
    "* get initial context(seed), \n",
    "* predict next token probabilities,\n",
    "* sample next token, \n",
    "* add it to the context\n",
    "* repeat from step 2\n",
    "\n",
    "You'll get a more detailed info on how it works in the homework section."
   ]
  },
  {
   "cell_type": "code",
   "execution_count": 33,
   "metadata": {
    "collapsed": true
   },
   "outputs": [],
   "source": [
    "#compile the function that computes probabilities for next token given previous text.\n",
    "\n",
    "#reshape back into original shape\n",
    "next_word_probas = network_output.reshape((input_sequence.shape[0],input_sequence.shape[1],len(tokens)))\n",
    "#predictions for next tokens (after sequence end)\n",
    "last_word_probas = next_word_probas[:,-1]\n",
    "probs = theano.function([input_sequence],last_word_probas,allow_input_downcast=True)\n"
   ]
  },
  {
   "cell_type": "code",
   "execution_count": 34,
   "metadata": {
    "collapsed": false
   },
   "outputs": [],
   "source": [
    "def generate_sample(seed_phrase=None,N=MAX_LEN,t=1,n_snippets=1):\n",
    "    '''\n",
    "    The function generates text given a phrase of length at least SEQ_LENGTH.\n",
    "        \n",
    "    parameters:\n",
    "        sample_fun - max_ or proportional_sample_fun or whatever else you implemented\n",
    "        \n",
    "        The phrase is set using the variable seed_phrase\n",
    "\n",
    "        The optional input \"N\" is used to set the number of characters of text to predict.     \n",
    "    '''\n",
    "    if seed_phrase is None:\n",
    "        seed_phrase=start_token\n",
    "    if len(seed_phrase) > MAX_LEN:\n",
    "        seed_phrase = seed_phrase[-MAX_LEN:]\n",
    "    assert type(seed_phrase) is str\n",
    "\n",
    "    \n",
    "    snippets = []\n",
    "    for _ in range(n_snippets):\n",
    "        sample_ix = []\n",
    "        x = list(map(lambda c: token_to_id.get(c,0), seed_phrase))\n",
    "        x = np.array([x])\n",
    "\n",
    "        for i in range(N):\n",
    "            # Pick the character that got assigned the highest probability\n",
    "            \n",
    "            \n",
    "            p = <find next to x char> \n",
    "            p = p**t / np.sum(p**t)\n",
    "            \n",
    "            ix = <choose random token number less than len(token) with p>\n",
    "            \n",
    "            sample_ix.append(ix)\n",
    "\n",
    "            x = np.hstack((x[-MAX_LEN+1:],[[ix]]))\n",
    "\n",
    "        random_snippet = seed_phrase + ''.join(id_to_token[ix] for ix in sample_ix)    \n",
    "        snippets.append(random_snippet)\n",
    "        \n",
    "    print(\"----\\n %s \\n----\" % '; '.join(snippets))\n"
   ]
  },
  {
   "cell_type": "markdown",
   "metadata": {},
   "source": [
    "# Model training\n",
    "\n",
    "Here you can tweak parameters or insert your generation function\n",
    "\n",
    "\n",
    "__Once something word-like starts generating, try increasing seq_length__\n",
    "\n"
   ]
  },
  {
   "cell_type": "code",
   "execution_count": 35,
   "metadata": {
    "collapsed": true
   },
   "outputs": [],
   "source": [
    "def sample_batch(data, batch_size):\n",
    "    \n",
    "    rows = data[np.random.randint(0,len(data),size=batch_size)]\n",
    "    \n",
    "    return rows[:,:-1],rows[:,1:]"
   ]
  },
  {
   "cell_type": "code",
   "execution_count": 40,
   "metadata": {
    "collapsed": false,
    "scrolled": true
   },
   "outputs": [
    {
     "name": "stdout",
     "output_type": "stream",
     "text": [
      "Training ...\n",
      "Generated names\n",
      "----\n",
      "  What is the Fire better you service in a projection engineer;  What are the best between the to be a phone of every solvers;  What is the most work of the polition of the port in the add;  What are the best way to be a good from an engineering?;    ;  Why is the world bound be with engineering a polling to have;  What is the best social course for a many start of the perso;  What are your fact to watch of the pain advantage better?;  ;  What is the best way to prepany and which compander better i;  What would happen if you think a service program like at be ;  What is the best way to start a should prepare to serving ac \n",
      "----\n",
      "Epoch 0 average loss = 1.2233946222066878\n",
      "Generated names\n",
      "----\n",
      "  Is there any correct place a can for a constart?;           ;  How can I make in India?;                                   ;  I'm in the right for a hard Dadement program?;              ;  What is it like to be a stront drow of the US movie of the o;  What is the formant of India and every the place for an empl;  What is the say the common in program for a comport my for a;  What is the best companies of a reserve their story than be ;  What are the best way to going a talker to a have a selt con;  What is the best treated to refore can a simple to someone w;  What is the best colot are related to the writers on the bes \n",
      "----\n",
      "Epoch 1 average loss = 1.214999993443489\n",
      "Generated names\n",
      "----\n",
      "  What is the best way to be real outer than and the most one ;  What are the differentic between the best perforstor of stre;  What is the difference between the presidentifications on th;  What do you think when you do a designer exam?;             ;  What are the best ways to make money in India to someone doe;  What are the best ways to do the person store of the selated;  Where can I start memory someone of a phone?;               ;  What does the best way to depreter get a designer at Sank of;  What does a socessed company for a 1000 somether and changer;  What is the difference between wanter sex and companies?;    \n",
      "----\n",
      "Epoch 2 average loss = 1.2149213000535966\n",
      "Generated names\n",
      "----\n",
      "  What are the best way to do to be a body pook time from a go;  Is a good companies of graduate?;                           ;  What are the best polities for a brack drive?;              ;  What are the best mail for contrience of a porting from the ;  Why do thist the most a body to service for a port?;        ;  What are the best profic reador for the partic new to be a f;  What are the worst way to learn sentenced to be a business a;  Why can I be a good to we feel to become thing on the harrog;  Why do good money I am a batter to learn brand in India?;   ;  What are the best better for website?;                       \n",
      "----\n",
      "Epoch 3 average loss = 1.2088732516765595\n",
      "Generated names\n",
      "----\n",
      "  What is the creation of a sear college to prove the United P;  What is the world programmed to get a thein the world?;     ;  What are the best upples of the haster a girls and had to st;  What are the best passible to depaped to a say in the progra;  What are the best companys and some good courses?;          ;  How can I get a service for a girl as a sell to have like to;  What do I take to give to be with my live in the success uni;  How can I find the new topic and how does the grows and when;  What is the best meaning their company in idea?;            ;  Is the most someone sent get the world and why doesn't we ha \n",
      "----\n",
      "Epoch 4 average loss = 1.2114687725305557\n",
      "Generated names\n",
      "----\n",
      "  What are the best some of the best book?;                   ;  What are the best common days in India for Light?;          ;  What are the best most died of software in India?;          ;  What are the best way to have a business programming with a ;  Is there any to so many way to do when you done in a base a ;  What are the best song of Tamil and I start a my allowed to ;  What is the best way in the world is more and programmistic ;  What are the best services at the come of market to say and ;  How do I get the pase of the Bay Aresh or Burket that happen;  What are the best science of the site or the sentence than a \n",
      "----\n",
      "Epoch 5 average loss = 1.1953506149053574\n",
      "Generated names\n",
      "----\n",
      "  What is the best way to president to lose a service to the t;  What is the best information has the best for presidenting s;  What are the best ways benerated post of men and a sussizent;  What is the best way to prepare for a life of the best and b;  Why do someone light and why do you have see to buy computer;  Is there any test a critical and a sentence become to become;  What are the best ways to undering a solvers of the profit i;  How do I make a factor in the best procein for a car don't a;  What is the difference between companies on my commigration ;  What is the best way to brown for a famous for an account of \n",
      "----\n",
      "Epoch 6 average loss = 1.178509593963623\n",
      "Generated names\n",
      "----\n",
      "  What are the best search to get the presidential exams?;    ;  What are the best places that the conservite starting consid;  What is the best bring like to be market and an astract with;  What is the best way to be a chancent work and why do to hav;  Why is the considered a really in Autrani in a tochology?;  ;  Is there any convertial states in the world?;               ;  What are the most companies of the US or Nic distractive in ;  What is the salable to love a change the Indian student to h;  Which book is the best Stating the most important to learn e;  What is the best way to revelop to be a company in India?;   \n",
      "----\n",
      "Epoch 7 average loss = 1.1910541653633118\n",
      "Generated names\n",
      "----\n",
      "  What is the best book to watch to force and a good from the ;  How do I speak more to learn a year old about the most not i;  What will be the best way to be a programming arrit to buy a;  What is the best way to get a life to be a president in the ;  What is the best way to take a sector of the same of the fir;  What is the profitation in Gadi so management production of ;  What is the best tetter to get rid of the Nod rid of second ;  What is the difference between States and Standard Trump Str;  What is the best different to learn storing in a card back o;  Why do to ever date to be a person in the project differ?;   \n",
      "----\n",
      "Epoch 8 average loss = 1.177105892419815\n",
      "Generated names\n",
      "----\n",
      "  What are some examples of a people when I go number when I d;  What are the best way to be a better of country?;           ;  What are some some of the best ways to come with a compared ;  How do I college for Indian Comman really can I start a pres;  How do you understand a girl in the most for a serve that my;  What are the find to be a good seen to a company while have ;  How do you food best flow be a good product a programmer dat;  What is the best way to service in the world?;              ;  How do I make my difference between a good place to be a cou;  What is the best content for a company who can I take for a  \n",
      "----\n",
      "Epoch 9 average loss = 1.1803295102119447\n",
      "Generated names\n",
      "----\n",
      "  What would the best way to change or the company in Canada a;  What is the best ways to be a calculation to buy tranship in;  How do I prepare money like to different solide of the US se;  What is the best play thing stress in the best way to tell t;  What does the average the best weight to read to be a start ;  What are the best and things to be a compare to be a company;  How can I get internet about her make to be a good product a;  I have to become a regul develop to with the and can a perso;  What do you think at the traden to become a my new discrist?;  What is the most way to learn the safe to be a studies in th \n",
      "----\n",
      "Epoch 10 average loss = 1.1653008449077606\n",
      "Generated names\n",
      "----\n",
      "  What is the best way to do the US addicted the safe?;       ;  What is the companies about insteption with a companies in a;  What is the best post of the programming and real bitch?;   ;  What is the difference between online and comport by a Ameri;  Can I find to work in Google for a better a communities to b;  What is the best famous for the UP first companies of the pr;  What is the best way to be a find to do attend to the Univer;  What is the best way to start at the storage production in i;  What is the best for new graduate can a patting a long?;    ;  What is the best way to use to start a phonear with the prov \n",
      "----\n",
      "Epoch 11 average loss = 1.1733650907278061\n",
      "Generated names\n",
      "----\n",
      "  What is the pros and stranged for a suit and been to most an;  I am a science, computer that should I internet a construmin;  What are the best tool mostures sentences?;                 ;  How do I recording a pertanies of my online books?;         ;  What are the best introvert should I be a good Say India?;  ;  What is a subber application of the US for a transtion?;    ;  What are some things to do to see a country?;               ;  Where can I train all the Indian constron?;                 ;  What is the best answer the United Android Computer for the ;  What is the best way to be a streen?;                        \n",
      "----\n",
      "Epoch 12 average loss = 1.1657091521024705\n",
      "Generated names\n",
      "----\n",
      "  What is the difference between contrality minimum in India?;;  What are some so many life of and company striting and start;  What do you think the US in the press on a like to be a woma;  What are some things to startup in the most war instally tha;  What is the best transfer to a company of life?;            ;  What are some evil safe to work of the US and 2016 and I hav;  How do I have be the best into the sollow markety?;         ;  What is the best programming in a marry at the sleep to my s;  What are the best talk of a files of an electron of an edito;  What is the difference between a commany and my and study in \n",
      "----\n",
      "Epoch 13 average loss = 1.1598398604393005\n",
      "Generated names\n",
      "----\n",
      "  How can I innovations should be a Gican?;                   ;  What are some difference between the USA files?;            ;  What is the best way to become a stream?;                   ;  What do you think have a breaking in the US company?;       ;  How do I prepare men startup in the most in members?;       ;  What is the best way to be best presidents?;                ;  What are the things and have in the USA from the most univer;  How can I get a good and why does the U.S. Hond commerce?;  ;  How can I react the US store in Comperies?;                 ;  How do I get a free residents to company for an internet?;   \n",
      "----\n",
      "Epoch 14 average loss = 1.1483925672769546\n",
      "Generated names\n",
      "----\n",
      "  How do I president my energy?;                              ;  What is the best way to be a person by a stretting help to m;  What are the best site of beard in the startly and consider ;  What does the world to stop in the world be the or in India?;  Did Genoor College for experience of a student?;            ;  What is the best free more to change my experience of the be;  Why should I country of a promotes for I ask me to be a girl;  How do I preparing a secross in the US best internation?;   ;  What are the best ways to be a person between the most from ;  What are the best sites of the completer in Boder?;          \n",
      "----\n",
      "Epoch 15 average loss = 1.1502553758621217\n",
      "Generated names\n",
      "----\n",
      "  What is the best way to president value world's at it going ;  What is the best top of State of Chinese Constart in India?;;  How do you trick a constall in one recent mean?;            ;  What is the best programming in the news to get a same of an;  How do I start my stort people from someone?;               ;  How do I convert a like to make a client?;                  ;  How do I conving transion and post for a love?;             ;  What is the most simil considered in while grades I love in ;  Who is the difference between a secret before find so calcul;  What are the breations of all the services of Games for?;    \n",
      "----\n",
      "Epoch 16 average loss = 1.1381999089717865\n",
      "Generated names\n",
      "----\n",
      "  What is the best quality time to start a student study in th;  What is the best way to learn has the start app for a starti;  What is the best way to accord up a hour and what are some t;  How do I become a companies in India and Punce that should I;  How can I recomp my lift in India?;                         ;  Why are some power designers and why now there any work at a;  What is the best ways to send a social masturbation?;       ;  What is the best place to start the first to sent the Daily ;  What is the restauration of Linux and Norman student in a pe;  What is the best scar that I don't the for the person in a c \n",
      "----\n",
      "Epoch 17 average loss = 1.1480374598503114\n",
      "Generated names\n",
      "----\n",
      "  What do you feel the other for a commerce and a love on my d;  Is the net of a company people using the mather with math fo;  What are the best one get in companies of a feel?;          ;  What is the best profit real from my continue and demoneticl;  What are the best being to the supportant in anime consider ;  What are the best required when you best the easiest with th;  What are some interview of developers been my batter?;      ;  What is the most one believe to be same to be the find websi;  Why do people many speed to be a super development to be a s;  What are the most websites to be a black media?;             \n",
      "----\n",
      "Epoch 18 average loss = 1.1371926118135451\n",
      "Generated names\n",
      "----\n",
      "  What was your favorite actually and why is it a social place;  What is the best way to get into enougn in the hard and how ;  What are some things that place to my production in the US c;  How do I find a sucial work?;                               ;  Is it a considered a mer to a site of the Apple and why does;  Is there any which transperience web website and a friend wh;  What is the best service to live my from someone?;          ;  How do you do if we have an Indian pain when I watch from th;  How do I make my program to a day sex scample become a job i;  Where can I find the companies with women a selling a develo \n",
      "----\n",
      "Epoch 19 average loss = 1.1390373972654342\n",
      "Generated names\n",
      "----\n",
      "  How can I start a book for a person?;                       ;  What are the best ways to learn to have someone?;           ;  What are the best someone words in India?;                  ;  What is the best way to date a guy a light but I stop the he;  What are the best startups and how do I conversities in the ;  What are the best some for a person for buding into a studen;  How do you delete a more point in website?;                 ;  What are the best most for an engineering in India?;        ;  What are the best best ports about China and I have a startu;  What is the best book structure of the Indian sation?;       \n",
      "----\n",
      "Epoch 20 average loss = 1.1312663120031357\n",
      "Generated names\n",
      "----\n",
      "  What is a good site with the most in the word in India?;    ;  What is the difference between a decision of the most intern;  What is the real in the reason and why are they way to have ;  What is the best companies to pay a book to be good a soles?;  How can I improve my sentence of common different, what is t;  Which is the best way to become a become a buy companies?;  ;  What is the best politic students on Quora?;                ;  What is the best way to convert feel like and where is the b;  What is the best way to know if someone marketic parents in ;  What is the best way to study experience in the own in the t \n",
      "----\n",
      "Epoch 21 average loss = 1.1326013147830962\n",
      "Generated names\n",
      "----\n",
      "  How do I say the world by competition to an electron?;      ;  What is the best starting most in India?;                   ;  What is the best movie to really searching your factor?;    ;  Is there any working of the US or India?;                   ;  What is the best companies of my card?;                     ;  Why do you ever have a presidential selling to the world?;  ;  What is the best way to start a resoutch more the world?;   ;  What are the best more books for the presidential distrist a;  What is the best transfer for my programming the important o;  What is the significance of the prove the endifter without i \n",
      "----\n",
      "Epoch 22 average loss = 1.1221932464838027\n",
      "Generated names\n",
      "----\n",
      "  What is the best a job in the Andung of Maristan?;          ;  What is the not in a girl in the world book on a technical e;  What is the best popular true that the arrumary of a most an;  What are some good behind which is the different conserved a;  How do I get a school are there an internations?;           ;  What is the origin of not any cons to mean in the Sentition ;  What is the new a professional and consider an any way to sa;  What is the care as a strategy in China?;                   ;  What are the internship can with many person that have an iP;  What are the best way to convert a hand advice stare of ever \n",
      "----\n",
      "Epoch 23 average loss = 1.1291418396234512\n",
      "Generated names\n",
      "----\n",
      "  Which is the best book to be a person of the right in India?;  What is the best way to start to make my blood for a commerc;  What is the best book of the test marketing and love in an i;  How do I get a life to be make my investitutes and why?;    ;  Why is the start so president to be a social marketing produ;  What are the best books of song to start to learn company in;  Why do you do with the adventure is the start invest install;  Why do people and how is it is to be a provide to the United;  What is the best book of the programming weight does?;      ;  What is the difference between a compare of startup in the U \n",
      "----\n",
      "Epoch 24 average loss = 1.1283866072893143\n",
      "Generated names\n",
      "----\n",
      "  How do you really a good sex of the world?;                 ;  What is the best way to be a good at basic and a someone in ;  What do you are a brain constance in an owner acre to make a;  What is the best way to read a math change of the US and Del;  What do people be last of graduate?;                        ;  What is the send of the United Thing Tamil constitute of the;  What are some ways to get a hearth in my life?;             ;  What is the best way to get a person website?;              ;  Is there a sech a real determine me an articles?;           ;  What is the best way to get or difference between a good lif \n",
      "----\n",
      "Epoch 25 average loss = 1.10828111577034\n",
      "Generated names\n",
      "----\n",
      "  What is the good place for a productive?;                   ;  How do I get a good profit of the party of phone disconsed f;  What should I do and who was it in the same per to be machin;  How does it mean in my state of people and days for an exper;  What is your review of the most in the most in the program i;  What is the difference between the superming and developer c;  What is the best interneting being interview market?;       ;  What is the difference between green with a company in Engli;  Which is the best way to play experience of companies?;     ;  What are the best movies of the problem of sentence companie \n",
      "----\n",
      "Epoch 26 average loss = 1.1053058834075928\n",
      "Generated names\n",
      "----\n",
      "  What is the best way to community by bio of Android and how ;  What are the best hacks in German singer?;                  ;  What are the most for an account into the competition of the;  How do I get a concenture to the world be a good and it to s;  What is the most way to stop any master?;                   ;  How can I get a formation of the song in the United Transa t;  How do you do an account in a good and a photon?;           ;  What is the package software for a communication company?;  ;  Why do I have a slay brand in a sentence between a considere;  What is the most bank of the US or particles?;               \n",
      "----\n",
      "Epoch 27 average loss = 1.1087933725118637\n",
      "Generated names\n",
      "----\n",
      "  What are the best restaurant computer should I get research ;  What is the best way to get a U.S. store on the US?;        ;  Is the word \"The for the sometion strategy?;                ;  What is the difference between the stock and card in the US?;  Is it possible to study from the world in Swaytan statement ;  How do I get footer in company in the world?;               ;  How do I commerce the data promit thing?;                   ;  What does it mean a good for the United States in the most o;  How can I get the change the profit of the United Trump and ;  What are the best places to have ever the salary that can I  \n",
      "----\n",
      "Epoch 28 average loss = 1.1120875567197799\n",
      "Generated names\n",
      "----\n",
      "  What is general rasing states?;                             ;  What is the best way to prepare for a start of companies?;  ;  What is a good phone be movies of the US in India?;         ;  What is the difference between state in the Pune of Facebook;  What is the meaning of all the history in a part and constra;  Is it possible to do a good real company of dream?;         ;  What is the difference between a consection and car in a fig;  How does the place to all the US or disadvantage of india?; ;  What is the best way to get a website and while like has sci;  What are the best taxt of all the weight with a man driving  \n",
      "----\n",
      "Epoch 29 average loss = 1.1106393996477126\n",
      "Generated names\n",
      "----\n",
      "  What is the difference between a complete in india?;        ;  What are the best books to be a chemical engineering cons in;  How do I get a service to India and IIT?;                   ;  What is the best hand able to get internship in the US and 2;  What was the most best with in strend?;                     ;  What is the difference between new growth to company in my i;  What is the best way to learn with the time so much to any c;  What is the difference between the transform and preparing i;  What is the best way to see the police constanting and I don;  How do I stop preparing for medical travel on my computer in \n",
      "----\n",
      "Epoch 30 average loss = 1.1068732932806016\n",
      "Generated names\n",
      "----\n",
      "  What are some of the best laptop to watch interview of the p;  What is the companies to do to be an example for a scope of ;  What is the difference between a case and and in a raise in ;  What is the best way to learn money in the problem in contro;  What is the considered faster of the worst in India?;       ;  What is the best way to study and a piestion of the US and T;  What are the best kill topics (frain) has a stock?;         ;  What is the best convert of Tamil Subjand?;                 ;  What are the best beand of an interview learning in India?; ;  What is the best way to with a startup a looking for more su \n",
      "----\n",
      "Epoch 31 average loss = 1.1062577117681502\n",
      "Generated names\n",
      "----\n",
      "  What is the most book for a company of my company for a comm;  What do you do to learn a new start from been in relativatio;  I want to do for the got can design while have a good intern;  What is the best way to start a continue of push revential i;  What is the best statistic affect of the Indian Ving and mov;  What are the differences between a pack from an against the ;  How do I be the haster while program on my boyfriend conserv;  What is the best book after college to financial station of ;  How do I get a money processional fight or build on my quest;  Why do we read with me is convert a life?;                   \n",
      "----\n",
      "Epoch 32 average loss = 1.0950451418161393\n",
      "Generated names\n",
      "----\n",
      "  What is the best way to be a better of the Security not and ;  What are some good steps and disadvantages of Visa on Canada;  What is the best way to get a money of buying a 12 extreen?;;  Is it possible to be a better to part and a design its or un;  What are the best motions of burning profession?;           ;  What is a good informed to buy a girl study of the first per;  What can I do to find a country?;                           ;  What are the best ways to learn internship in math and how d;  What is the best way to get a language was being in Delhin?;;  What does the model of send a technical engineering you have \n",
      "----\n",
      "Epoch 33 average loss = 1.097470911502838\n",
      "Generated names\n",
      "----\n",
      "  How do I prove a finance website in India?;                 ;  What are the most sites of the respect from my back in depre;  How do I download to prepare for an interesting?;           ;  What is the seconding to land transional or procent of my ea;  What are the best ways to live for the US and Madio server m;  How do I start the activity of the same of the most in India;  What are the best places to be a month and series and not wh;  What is the difference between a companies in the US control;  What are some of the best companies in Canada and Darth Kore;  What is the salary of the statistic on a programming in Indi \n",
      "----\n"
     ]
    },
    {
     "ename": "KeyboardInterrupt",
     "evalue": "",
     "output_type": "error",
     "traceback": [
      "\u001b[0;31m---------------------------------------------------------------------------\u001b[0m",
      "\u001b[0;31mKeyboardInterrupt\u001b[0m                         Traceback (most recent call last)",
      "\u001b[0;32m<ipython-input-40-dee66807aa6b>\u001b[0m in \u001b[0;36m<module>\u001b[0;34m()\u001b[0m\n\u001b[1;32m     23\u001b[0m \u001b[0;34m\u001b[0m\u001b[0m\n\u001b[1;32m     24\u001b[0m         \u001b[0mx\u001b[0m\u001b[0;34m,\u001b[0m\u001b[0my\u001b[0m \u001b[0;34m=\u001b[0m \u001b[0msample_batch\u001b[0m\u001b[0;34m(\u001b[0m\u001b[0mnames_ix\u001b[0m\u001b[0;34m,\u001b[0m\u001b[0mbatch_size\u001b[0m\u001b[0;34m)\u001b[0m\u001b[0;34m\u001b[0m\u001b[0m\n\u001b[0;32m---> 25\u001b[0;31m         \u001b[0mavg_cost\u001b[0m \u001b[0;34m+=\u001b[0m \u001b[0mtrain\u001b[0m\u001b[0;34m(\u001b[0m\u001b[0mx\u001b[0m\u001b[0;34m,\u001b[0m \u001b[0my\u001b[0m\u001b[0;34m)\u001b[0m\u001b[0;34m\u001b[0m\u001b[0m\n\u001b[0m\u001b[1;32m     26\u001b[0m \u001b[0;34m\u001b[0m\u001b[0m\n\u001b[1;32m     27\u001b[0m     \u001b[0mprint\u001b[0m\u001b[0;34m(\u001b[0m\u001b[0;34m\"Epoch {} average loss = {}\"\u001b[0m\u001b[0;34m.\u001b[0m\u001b[0mformat\u001b[0m\u001b[0;34m(\u001b[0m\u001b[0mepoch\u001b[0m\u001b[0;34m,\u001b[0m \u001b[0mavg_cost\u001b[0m \u001b[0;34m/\u001b[0m \u001b[0mbatches_per_epoch\u001b[0m\u001b[0;34m)\u001b[0m\u001b[0;34m)\u001b[0m\u001b[0;34m\u001b[0m\u001b[0m\n",
      "\u001b[0;32m/anaconda3/lib/python3.5/site-packages/theano/compile/function_module.py\u001b[0m in \u001b[0;36m__call__\u001b[0;34m(self, *args, **kwargs)\u001b[0m\n\u001b[1;32m    882\u001b[0m         \u001b[0;32mtry\u001b[0m\u001b[0;34m:\u001b[0m\u001b[0;34m\u001b[0m\u001b[0m\n\u001b[1;32m    883\u001b[0m             \u001b[0moutputs\u001b[0m \u001b[0;34m=\u001b[0m\u001b[0;31m\\\u001b[0m\u001b[0;34m\u001b[0m\u001b[0m\n\u001b[0;32m--> 884\u001b[0;31m                 \u001b[0mself\u001b[0m\u001b[0;34m.\u001b[0m\u001b[0mfn\u001b[0m\u001b[0;34m(\u001b[0m\u001b[0;34m)\u001b[0m \u001b[0;32mif\u001b[0m \u001b[0moutput_subset\u001b[0m \u001b[0;32mis\u001b[0m \u001b[0;32mNone\u001b[0m \u001b[0;32melse\u001b[0m\u001b[0;31m\\\u001b[0m\u001b[0;34m\u001b[0m\u001b[0m\n\u001b[0m\u001b[1;32m    885\u001b[0m                 \u001b[0mself\u001b[0m\u001b[0;34m.\u001b[0m\u001b[0mfn\u001b[0m\u001b[0;34m(\u001b[0m\u001b[0moutput_subset\u001b[0m\u001b[0;34m=\u001b[0m\u001b[0moutput_subset\u001b[0m\u001b[0;34m)\u001b[0m\u001b[0;34m\u001b[0m\u001b[0m\n\u001b[1;32m    886\u001b[0m         \u001b[0;32mexcept\u001b[0m \u001b[0mException\u001b[0m\u001b[0;34m:\u001b[0m\u001b[0;34m\u001b[0m\u001b[0m\n",
      "\u001b[0;32m/anaconda3/lib/python3.5/site-packages/theano/gof/op.py\u001b[0m in \u001b[0;36mrval\u001b[0;34m(p, i, o, n)\u001b[0m\n\u001b[1;32m    869\u001b[0m         \u001b[0;32mif\u001b[0m \u001b[0mparams\u001b[0m \u001b[0;32mis\u001b[0m \u001b[0mgraph\u001b[0m\u001b[0;34m.\u001b[0m\u001b[0mNoParams\u001b[0m\u001b[0;34m:\u001b[0m\u001b[0;34m\u001b[0m\u001b[0m\n\u001b[1;32m    870\u001b[0m             \u001b[0;31m# default arguments are stored in the closure of `rval`\u001b[0m\u001b[0;34m\u001b[0m\u001b[0;34m\u001b[0m\u001b[0m\n\u001b[0;32m--> 871\u001b[0;31m             \u001b[0;32mdef\u001b[0m \u001b[0mrval\u001b[0m\u001b[0;34m(\u001b[0m\u001b[0mp\u001b[0m\u001b[0;34m=\u001b[0m\u001b[0mp\u001b[0m\u001b[0;34m,\u001b[0m \u001b[0mi\u001b[0m\u001b[0;34m=\u001b[0m\u001b[0mnode_input_storage\u001b[0m\u001b[0;34m,\u001b[0m \u001b[0mo\u001b[0m\u001b[0;34m=\u001b[0m\u001b[0mnode_output_storage\u001b[0m\u001b[0;34m,\u001b[0m \u001b[0mn\u001b[0m\u001b[0;34m=\u001b[0m\u001b[0mnode\u001b[0m\u001b[0;34m)\u001b[0m\u001b[0;34m:\u001b[0m\u001b[0;34m\u001b[0m\u001b[0m\n\u001b[0m\u001b[1;32m    872\u001b[0m                 \u001b[0mr\u001b[0m \u001b[0;34m=\u001b[0m \u001b[0mp\u001b[0m\u001b[0;34m(\u001b[0m\u001b[0mn\u001b[0m\u001b[0;34m,\u001b[0m \u001b[0;34m[\u001b[0m\u001b[0mx\u001b[0m\u001b[0;34m[\u001b[0m\u001b[0;36m0\u001b[0m\u001b[0;34m]\u001b[0m \u001b[0;32mfor\u001b[0m \u001b[0mx\u001b[0m \u001b[0;32min\u001b[0m \u001b[0mi\u001b[0m\u001b[0;34m]\u001b[0m\u001b[0;34m,\u001b[0m \u001b[0mo\u001b[0m\u001b[0;34m)\u001b[0m\u001b[0;34m\u001b[0m\u001b[0m\n\u001b[1;32m    873\u001b[0m                 \u001b[0;32mfor\u001b[0m \u001b[0mo\u001b[0m \u001b[0;32min\u001b[0m \u001b[0mnode\u001b[0m\u001b[0;34m.\u001b[0m\u001b[0moutputs\u001b[0m\u001b[0;34m:\u001b[0m\u001b[0;34m\u001b[0m\u001b[0m\n",
      "\u001b[0;31mKeyboardInterrupt\u001b[0m: "
     ]
    }
   ],
   "source": [
    "\n",
    "print(\"Training ...\")\n",
    "\n",
    "\n",
    "#total N iterations\n",
    "n_epochs=100\n",
    "\n",
    "# how many minibatches are there in the epoch \n",
    "batches_per_epoch = 500\n",
    "\n",
    "#how many training sequences are processed in a single function call\n",
    "batch_size=10\n",
    "\n",
    "\n",
    "for epoch in range(n_epochs):\n",
    "\n",
    "    print(\"Generated questions\")\n",
    "    generate_sample(n_snippets=10, t=2)\n",
    "\n",
    "    avg_cost = 0;\n",
    "    \n",
    "    for _ in range(batches_per_epoch):\n",
    "        \n",
    "        x,y = sample_batch(questions_ix,batch_size)\n",
    "        avg_cost += train(x, y)\n",
    "        \n",
    "    print(\"Epoch {} average loss = {}\".format(epoch, avg_cost / batches_per_epoch))\n",
    "\n"
   ]
  },
  {
   "cell_type": "markdown",
   "metadata": {
    "collapsed": false
   },
   "source": [
    "# Examples\n",
    "* Why are there any block way to start a girl and why?\n",
    "* What is the difference between a companies have a some companies?;\n",
    "* ..."
   ]
  },
  {
   "cell_type": "code",
   "execution_count": 2,
   "metadata": {
    "collapsed": false
   },
   "outputs": [
    {
     "ename": "NameError",
     "evalue": "name 'generate_sample' is not defined",
     "output_type": "error",
     "traceback": [
      "\u001b[0;31m---------------------------------------------------------------------------\u001b[0m",
      "\u001b[0;31mNameError\u001b[0m                                 Traceback (most recent call last)",
      "\u001b[0;32m<ipython-input-2-2421789786d1>\u001b[0m in \u001b[0;36m<module>\u001b[0;34m()\u001b[0m\n\u001b[0;32m----> 1\u001b[0;31m \u001b[0mgenerate_sample\u001b[0m\u001b[0;34m(\u001b[0m\u001b[0mn_snippets\u001b[0m\u001b[0;34m=\u001b[0m\u001b[0;36m10\u001b[0m\u001b[0;34m,\u001b[0m\u001b[0mt\u001b[0m\u001b[0;34m=\u001b[0m\u001b[0;36m1.5\u001b[0m\u001b[0;34m)\u001b[0m\u001b[0;34m\u001b[0m\u001b[0m\n\u001b[0m",
      "\u001b[0;31mNameError\u001b[0m: name 'generate_sample' is not defined"
     ]
    }
   ],
   "source": [
    "generate_sample(n_snippets=10,t=1.5)"
   ]
  },
  {
   "cell_type": "code",
   "execution_count": 49,
   "metadata": {
    "collapsed": false
   },
   "outputs": [
    {
     "name": "stdout",
     "output_type": "stream",
     "text": [
      "----\n",
      "  What is the difference between a cheat the university without in the USA and State;  What is the difference between development and company in the United Rangal Day\"?;;  What is the difference between a companies have a some companies?;                ;  What is the difference between the having the Parammets for an iPhone game ever an;  What is the difference between a photos and a battle correct files?;              ;  What is the difference between a single policy students in a student?;            ;  What is the difference between a particular state of questions on Quora?;         ;  What is the difference between a policy of the life and with a laptop and a senten;  What is the difference between a marents?;                                        ;  What is the difference between a career sex and can using in a successful?;        \n",
      "----\n"
     ]
    }
   ],
   "source": [
    "generate_sample(seed_phrase=\" What is the difference\",n_snippets=10, t=2)"
   ]
  },
  {
   "cell_type": "markdown",
   "metadata": {},
   "source": [
    "# And now,\n",
    "* Try several layers\n",
    "* Try your own dataset of any kind"
   ]
  }
 ],
 "metadata": {
  "kernelspec": {
   "display_name": "Python 3",
   "language": "python",
   "name": "python3"
  },
  "language_info": {
   "codemirror_mode": {
    "name": "ipython",
    "version": 3
   },
   "file_extension": ".py",
   "mimetype": "text/x-python",
   "name": "python",
   "nbconvert_exporter": "python",
   "pygments_lexer": "ipython3",
   "version": "3.5.2"
  }
 },
 "nbformat": 4,
 "nbformat_minor": 0
}
