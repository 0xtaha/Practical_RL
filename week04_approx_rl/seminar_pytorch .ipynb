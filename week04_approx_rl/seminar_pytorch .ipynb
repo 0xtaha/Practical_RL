{
 "cells": [
  {
   "cell_type": "markdown",
   "metadata": {
    "colab_type": "text",
    "id": "L8Ha-jdthEB0"
   },
   "source": [
    "# This file appeared here by accident.\n",
    "\n",
    "**Please, choose seminar_pytorch.ipynb, NOT choose seminar_pytorch .ipynb**"
   ]
  }
 ],
 "metadata": {
  "colab": {
   "name": "seminar_pytorch.ipynb",
   "provenance": []
  },
  "kernelspec": {
   "display_name": "Python 3",
   "language": "python",
   "name": "python3"
  },
  "language_info": {
   "codemirror_mode": {
    "name": "ipython",
    "version": 3
   },
   "file_extension": ".py",
   "mimetype": "text/x-python",
   "name": "python",
   "nbconvert_exporter": "python",
   "pygments_lexer": "ipython3",
   "version": "3.6.8"
  }
 },
 "nbformat": 4,
 "nbformat_minor": 1
}
